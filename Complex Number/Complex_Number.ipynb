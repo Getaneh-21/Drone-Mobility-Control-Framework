{
 "cells": [
  {
   "cell_type": "code",
   "execution_count": 1,
   "metadata": {},
   "outputs": [
    {
     "ename": "MemoryError",
     "evalue": "",
     "output_type": "error",
     "traceback": [
      "\u001b[1;31m---------------------------------------------------------------------------\u001b[0m",
      "\u001b[1;31mMemoryError\u001b[0m                               Traceback (most recent call last)",
      "\u001b[1;32m<ipython-input-1-091781bbe5cf>\u001b[0m in \u001b[0;36m<module>\u001b[1;34m\u001b[0m\n\u001b[0;32m     30\u001b[0m \u001b[0mcontents\u001b[0m \u001b[1;33m=\u001b[0m \u001b[0mcontents\u001b[0m\u001b[1;33m.\u001b[0m\u001b[0mreplace\u001b[0m\u001b[1;33m(\u001b[0m\u001b[1;34m\"[\"\u001b[0m\u001b[1;33m,\u001b[0m \u001b[1;34m\"\"\u001b[0m\u001b[1;33m)\u001b[0m\u001b[1;33m\u001b[0m\u001b[1;33m\u001b[0m\u001b[0m\n\u001b[0;32m     31\u001b[0m \u001b[0mcontents\u001b[0m \u001b[1;33m=\u001b[0m \u001b[0mcontents\u001b[0m\u001b[1;33m.\u001b[0m\u001b[0mreplace\u001b[0m\u001b[1;33m(\u001b[0m\u001b[1;34m\"]\"\u001b[0m\u001b[1;33m,\u001b[0m \u001b[1;34m\"\"\u001b[0m\u001b[1;33m)\u001b[0m\u001b[1;33m\u001b[0m\u001b[1;33m\u001b[0m\u001b[0m\n\u001b[1;32m---> 32\u001b[1;33m \u001b[0marr\u001b[0m\u001b[1;33m=\u001b[0m\u001b[0mnp\u001b[0m\u001b[1;33m.\u001b[0m\u001b[0marray\u001b[0m\u001b[1;33m(\u001b[0m\u001b[0mcontents\u001b[0m\u001b[1;33m)\u001b[0m\u001b[1;33m\u001b[0m\u001b[1;33m\u001b[0m\u001b[0m\n\u001b[0m\u001b[0;32m     33\u001b[0m \u001b[0mfile\u001b[0m \u001b[1;33m=\u001b[0m \u001b[0mopen\u001b[0m\u001b[1;33m(\u001b[0m\u001b[1;34m\"file_gech.csv\"\u001b[0m\u001b[1;33m,\u001b[0m \u001b[1;34m\"w+\"\u001b[0m\u001b[1;33m)\u001b[0m\u001b[1;33m\u001b[0m\u001b[1;33m\u001b[0m\u001b[0m\n\u001b[0;32m     34\u001b[0m \u001b[1;33m\u001b[0m\u001b[0m\n",
      "\u001b[1;31mMemoryError\u001b[0m: "
     ]
    }
   ],
   "source": [
    "import numpy as np\n",
    "import pandas as pd\n",
    "file = open(\"complex_number.txt\", \"r\")\n",
    "count_line = 0\n",
    "for line in file:\n",
    "    if line != \"\\n\":\n",
    "        count_line += 1\n",
    "file.close()\n",
    "total_line=int(count_line/2)\n",
    "with open(\"complex_number.txt\") as text_file:\n",
    "    contents = text_file.read()\n",
    "#print(contents)\n",
    "contents = contents.replace(\") (\", \",\")\n",
    "contents = contents.replace(\"(\", \"[\")\n",
    "contents = contents.replace(\") \", \"],\")\n",
    "contents = contents.replace(\" \", \",\")\n",
    "for i in range(total_line):\n",
    "    num=str(i)\n",
    "    contents = contents.replace('#'+num, \"#\")\n",
    "for i in range(total_line):\n",
    "    num=str(i)\n",
    "    contents = contents.replace('#'+num, \"\")\n",
    "for i in range(total_line):\n",
    "    num=str(i)\n",
    "    contents = contents.replace('#', \"\")\n",
    "contents = contents.replace('], ]', \"]]\")\n",
    "contents = contents.replace(\" \", \"\")\n",
    "contents = contents[:-2]\n",
    "contents = contents[2:]\n",
    "contents = contents.replace(\"[\", \"\")\n",
    "contents = contents.replace(\"]\", \"\")\n",
    "arr=np.array(contents)\n",
    "file = open(\"file_gech.csv\", \"w+\") \n",
    "  \n",
    "# Saving the array in a text file \n",
    "content = str(arr) \n",
    "file.write(content) \n",
    "file.close()\n",
    "df=pd.read_csv(\"file_gech.csv\")\n",
    "df = df.iloc[:,:-1]\n",
    "y_odd=pd.DataFrame()\n",
    "y_even=pd.DataFrame()\n",
    "odd_column=df.columns[0]\n",
    "length=544\n",
    "for i in range(length):\n",
    "    if(i%2==0):\n",
    "        x_even=(df.iloc[:,i])\n",
    "        y_even= pd.concat([y_even, x_even], axis=1)\n",
    "#print(y_even)\n",
    "y_even.to_csv(\"RealNumber.csv\")\n",
    "for i in range(length):\n",
    "    if(i%2==1):\n",
    "        x_odd=(df.iloc[:,i])\n",
    "        y_odd= pd.concat([y_odd, x_odd], axis=1)\n",
    "#rint(y_odd)\n",
    "y_odd.to_csv(\"ImaginaryNumber.csv\")\n",
    "print(\"Check your files in your working directory\")"
   ]
  },
  {
   "cell_type": "code",
   "execution_count": null,
   "metadata": {},
   "outputs": [],
   "source": []
  }
 ],
 "metadata": {
  "kernelspec": {
   "display_name": "Python 3",
   "language": "python",
   "name": "python3"
  },
  "language_info": {
   "codemirror_mode": {
    "name": "ipython",
    "version": 3
   },
   "file_extension": ".py",
   "mimetype": "text/x-python",
   "name": "python",
   "nbconvert_exporter": "python",
   "pygments_lexer": "ipython3",
   "version": "3.7.4"
  }
 },
 "nbformat": 4,
 "nbformat_minor": 2
}
